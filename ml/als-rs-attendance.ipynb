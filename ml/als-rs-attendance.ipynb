{
 "cells": [
  {
   "cell_type": "code",
   "execution_count": 58,
   "metadata": {},
   "outputs": [
    {
     "name": "stderr",
     "output_type": "stream",
     "text": [
      "                                                                                \r"
     ]
    },
    {
     "data": {
      "text/plain": [
       "[Row(groupId=801346710, userId=101386726, rank=1, lvl3name='Дыхательная гимнастика', lvl0id=3584, lvl0name='Для тела', lvl3id=3757),\n",
       " Row(groupId=801346710, userId=101430794, rank=1, lvl3name='Дыхательная гимнастика', lvl0id=3584, lvl0name='Для тела', lvl3id=3757),\n",
       " Row(groupId=801346810, userId=101366986, rank=1, lvl3name='ОНЛАЙН Ментальная арифметика', lvl0id=2840, lvl0name='Для ума', lvl3id=2976),\n",
       " Row(groupId=801346810, userId=101374816, rank=1, lvl3name='ОНЛАЙН Ментальная арифметика', lvl0id=2840, lvl0name='Для ума', lvl3id=2976),\n",
       " Row(groupId=801346810, userId=101381146, rank=1, lvl3name='ОНЛАЙН Ментальная арифметика', lvl0id=2840, lvl0name='Для ума', lvl3id=2976)]"
      ]
     },
     "execution_count": 58,
     "metadata": {},
     "output_type": "execute_result"
    }
   ],
   "source": [
    "from pyspark.sql import SparkSession\n",
    "from pyspark.sql.functions import when, lit, col, sum, explode, split, to_timestamp, current_timestamp\n",
    "from pyspark.sql.types import IntegerType\n",
    "from pyspark.ml.evaluation import RegressionEvaluator\n",
    "from pyspark.ml.recommendation import ALS\n",
    "\n",
    "spark = SparkSession\\\n",
    "        .builder\\\n",
    "        .appName(\"ALS\")\\\n",
    "        .config(\"spark.driver.host\",\"localhost\")\\\n",
    "        .config(\"spark.jars\", \"./postgresql-42.6.0.jar\") \\\n",
    "        .getOrCreate()\n",
    "# read in the dataset into pyspark DataFrame\n",
    "attendance = spark.read.csv('./attend.csv', header='true', inferSchema = 'true')\n",
    "attendance = attendance.drop('дата занятия') \\\n",
    "                        .drop('время начала занятия') \\\n",
    "                        .drop('время окончания занятия') \\\n",
    "                        .drop('направление 2') \\\n",
    "                        .drop('направление 3') \\\n",
    "                        .drop('уникальный номер занятия') \\\n",
    "                        .withColumnRenamed('уникальный номер группы', 'groupId') \\\n",
    "                        .withColumnRenamed('уникальный номер участника', 'userId') \\\n",
    "                        .withColumn(\"rank\", when((attendance['онлайн/офлайн'] == \"Да\"), 1) \\\n",
    "                                                .when((attendance['онлайн/офлайн'] == \"Нет\"), 1) \\\n",
    "                                                .otherwise(lit(\"0\"))) \\\n",
    "                        .drop('онлайн/офлайн')\n",
    "attendance = attendance.withColumn(\"rank\", col('rank').cast(IntegerType()))\n",
    "\n",
    "categoriesFromDB = spark.read \\\n",
    "    .format(\"jdbc\") \\\n",
    "    .option(\"url\", \"jdbc:postgresql://10.50.50.34:5432/leaders2023\") \\\n",
    "    .option(\"dbtable\", 'public.\"Category\"') \\\n",
    "    .option(\"user\", \"postgres\") \\\n",
    "    .option(\"password\", \"m3zyCrSHpGXsgqn2XZGigP7hR4Dn2GaeEfJSTDmkfvADkEoPgVbp96nUL6Xty4PK\") \\\n",
    "    .option(\"driver\", \"org.postgresql.Driver\") \\\n",
    "    .load()\n",
    "\n",
    "level0Categories = categoriesFromDB.select(col(\"id\").alias(\"lvl0id\"),col(\"name\").alias(\"lvl0name\"),col(\"parentId\").alias(\"lvl0parentId\")).filter(col(\"level\") == 0)\n",
    "level1Categories = categoriesFromDB.select(col(\"id\").alias(\"lvl1id\"),col(\"name\").alias(\"lvl1name\"),col(\"parentId\").alias(\"lvl1parentId\")).filter(col(\"level\") == 1)\n",
    "level2Categories = categoriesFromDB.select(col(\"id\").alias(\"lvl2id\"),col(\"name\").alias(\"lvl2name\"),col(\"parentId\").alias(\"lvl2parentId\")).filter(col(\"level\") == 2)\n",
    "level3Categories = categoriesFromDB.select(col(\"id\").alias(\"lvl3id\"),col(\"name\").alias(\"lvl3name\"),col(\"parentId\").alias(\"lvl3parentId\")).filter(col(\"level\") == 3)\n",
    "\n",
    "lvl01JoinedDF = level1Categories.join(level0Categories, level1Categories.lvl1parentId == level0Categories.lvl0id)\n",
    "lvl012JoinedDF = level2Categories.join(lvl01JoinedDF, level2Categories.lvl2parentId == lvl01JoinedDF.lvl1id)\n",
    "lvl0123JoinedDF = level3Categories.join(lvl012JoinedDF, level3Categories.lvl3parentId == lvl012JoinedDF.lvl2id)\n",
    "\n",
    "categories = lvl0123JoinedDF.select(\"lvl0id\", \"lvl0name\", \"lvl3id\",\"lvl3name\")\n",
    "                \n",
    "groups = spark.read.csv('./groups.csv', header='true', inferSchema = 'true')\n",
    "groups = groups.drop('направление 1') \\\n",
    "                        .drop('направление 2') \\\n",
    "                        .drop('адрес площадки') \\\n",
    "                        .drop('округ площадки') \\\n",
    "                        .drop('район площадки') \\\n",
    "                        .drop('расписание в активных периодах') \\\n",
    "                        .drop('расписание в закрытых периодах') \\\n",
    "                        .drop('расписание в плановом периоде') \\\n",
    "                        .withColumnRenamed('уникальный номер', 'groupId') \\\n",
    "                        .withColumnRenamed('направление 3', 'lvl3name')\n",
    "groupsWithLevelIds = categories.join(groups, 'lvl3name')\n",
    "attendanceWithLevelIds=attendance.join(groupsWithLevelIds, 'groupId')\n",
    "attendanceWithLevelIds.head(5)\n",
    "\n"
   ]
  },
  {
   "cell_type": "code",
   "execution_count": 35,
   "metadata": {},
   "outputs": [
    {
     "name": "stderr",
     "output_type": "stream",
     "text": [
      "23/05/28 00:19:33 WARN InstanceBuilder$NativeBLAS: Failed to load implementation from:dev.ludovic.netlib.blas.JNIBLAS\n",
      "23/05/28 00:19:33 WARN InstanceBuilder$NativeBLAS: Failed to load implementation from:dev.ludovic.netlib.blas.ForeignLinkerBLAS\n",
      "23/05/28 00:19:34 WARN InstanceBuilder$NativeLAPACK: Failed to load implementation from:dev.ludovic.netlib.lapack.JNILAPACK\n",
      "[Stage 285:>                                                        (0 + 8) / 8]\r"
     ]
    },
    {
     "name": "stdout",
     "output_type": "stream",
     "text": [
      "Root-mean-square error = 28.068110009106668\n"
     ]
    },
    {
     "name": "stderr",
     "output_type": "stream",
     "text": [
      "\r",
      "                                                                                \r"
     ]
    }
   ],
   "source": [
    "interestsLvl3 = attendanceWithLevelIds.groupBy(\"userId\", \"lvl3id\").agg(sum(\"rank\").alias(\"rank\"))\n",
    "\n",
    "\n",
    "(trainingInterestsLvl3, testInterestsLvl3) = interestsLvl3.randomSplit([0.8, 0.2])\n",
    "\n",
    "alsInterestsLvl3 = ALS(maxIter=5,rank=100, regParam=0.01, userCol=\"userId\", itemCol=\"lvl3id\", ratingCol=\"rank\",\n",
    "          coldStartStrategy=\"drop\")\n",
    "\n",
    "\n",
    "modelInterestsLvl3 = alsInterestsLvl3.fit(trainingInterestsLvl3)\n",
    "\n",
    "\n",
    "predictionsInterestsLvl3 = modelInterestsLvl3.transform(testInterestsLvl3)\n",
    "evaluatorInterestsLvl3 = RegressionEvaluator(metricName=\"rmse\", labelCol=\"rank\",\n",
    "                                predictionCol=\"prediction\")\n",
    "rmseInterestsLvl3 = evaluatorInterestsLvl3.evaluate(predictionsInterestsLvl3)\n",
    "print(\"Root-mean-square error = \" + str(rmseInterestsLvl3))"
   ]
  },
  {
   "cell_type": "code",
   "execution_count": 36,
   "metadata": {},
   "outputs": [
    {
     "name": "stderr",
     "output_type": "stream",
     "text": [
      "[Stage 401:=================================================>       (7 + 1) / 8]\r"
     ]
    },
    {
     "name": "stdout",
     "output_type": "stream",
     "text": [
      "Root-mean-square error = 95.13942791265822\n"
     ]
    },
    {
     "name": "stderr",
     "output_type": "stream",
     "text": [
      "\r",
      "                                                                                \r"
     ]
    }
   ],
   "source": [
    "interestsLvl0 = attendanceWithLevelIds.groupBy(\"userId\", \"lvl0id\").agg(sum(\"rank\").alias(\"rank\"))\n",
    "\n",
    "(trainingInterestsLvl0, testInterestsLvl0) = interestsLvl0.randomSplit([0.8, 0.2])\n",
    "\n",
    "alsInterestsLvl0 = ALS(maxIter=5,rank=100, regParam=0.01, userCol=\"userId\", itemCol=\"lvl0id\", ratingCol=\"rank\",\n",
    "          coldStartStrategy=\"drop\")\n",
    "\n",
    "\n",
    "modelInterestsLvl0 = alsInterestsLvl0.fit(trainingInterestsLvl0)\n",
    "\n",
    "\n",
    "predictionsInterestsLvl0 = modelInterestsLvl0.transform(testInterestsLvl0)\n",
    "evaluatorInterestsLvl0 = RegressionEvaluator(metricName=\"rmse\", labelCol=\"rank\",\n",
    "                                predictionCol=\"prediction\")\n",
    "rmseInterestsLvl0 = evaluatorInterestsLvl0.evaluate(predictionsInterestsLvl0)\n",
    "print(\"Root-mean-square error = \" + str(rmseInterestsLvl0))"
   ]
  },
  {
   "cell_type": "code",
   "execution_count": 62,
   "metadata": {},
   "outputs": [
    {
     "name": "stderr",
     "output_type": "stream",
     "text": [
      "/Users/mikhailrovnyagin/opt/anaconda3/envs/python38/lib/python3.8/site-packages/pyspark/sql/context.py:125: FutureWarning: Deprecated in 3.0.0. Use SparkSession.builder.getOrCreate() instead.\n",
      "  warnings.warn(\n",
      "                                                                                \r"
     ]
    }
   ],
   "source": [
    "url = \"jdbc:postgresql://10.50.50.34:5432/leaders2023\"\n",
    "properties = {\"user\": \"postgres\",\"password\": \"m3zyCrSHpGXsgqn2XZGigP7hR4Dn2GaeEfJSTDmkfvADkEoPgVbp96nUL6Xty4PK\",\n",
    "              \"driver\": \"org.postgresql.Driver\"}\n",
    "\n",
    "recommendationsInterestsLvl0 = modelInterestsLvl0.recommendForAllUsers(3)\n",
    "lvl0recs = recommendationsInterestsLvl0.withColumn('recommendations', explode('recommendations'))\n",
    "resultLvl0 = lvl0recs.select(\"userId\", lvl0recs[\"recommendations.lvl0id\"].alias(\"categoryId\"), lvl0recs[\"recommendations.rating\"].alias(\"rank\")) \\\n",
    "        .withColumn(\"createdAt\",to_timestamp(current_timestamp(),\"MM-dd-yyyy HH mm ss SSS\"))\n",
    "\n",
    "\n",
    "resultLvl0.write.jdbc(url=url, table='public.\"Recommendation\"', mode=\"overwrite\", properties=properties)\n"
   ]
  },
  {
   "cell_type": "code",
   "execution_count": 65,
   "metadata": {},
   "outputs": [
    {
     "name": "stderr",
     "output_type": "stream",
     "text": [
      "                                                                                \r"
     ]
    }
   ],
   "source": [
    "recommendationsInterestsLvl3 = modelInterestsLvl3.recommendForAllUsers(200)\n",
    "lvl3recs = recommendationsInterestsLvl3.withColumn('recommendations', explode('recommendations'))\n",
    "resultLvl3 = lvl3recs.select(\"userId\", lvl3recs[\"recommendations.lvl3id\"].alias(\"categoryId\"), lvl3recs[\"recommendations.rating\"].alias(\"rank\")) \\\n",
    "        .withColumn(\"createdAt\",to_timestamp(current_timestamp(),\"MM-dd-yyyy HH mm ss SSS\"))\n",
    "resultLvl3.count()\n",
    "resultLvl3.write.jdbc(url=url, table='public.\"Recommendation\"', mode=\"append\", properties=properties)\n",
    "\n"
   ]
  },
  {
   "cell_type": "code",
   "execution_count": null,
   "metadata": {},
   "outputs": [],
   "source": [
    "spark.stop()"
   ]
  },
  {
   "cell_type": "code",
   "execution_count": null,
   "metadata": {},
   "outputs": [],
   "source": []
  }
 ],
 "metadata": {
  "kernelspec": {
   "display_name": "Python 3 (ipykernel)",
   "language": "python",
   "name": "python3"
  },
  "language_info": {
   "codemirror_mode": {
    "name": "ipython",
    "version": 3
   },
   "file_extension": ".py",
   "mimetype": "text/x-python",
   "name": "python",
   "nbconvert_exporter": "python",
   "pygments_lexer": "ipython3",
   "version": "3.8.16"
  }
 },
 "nbformat": 4,
 "nbformat_minor": 2
}
