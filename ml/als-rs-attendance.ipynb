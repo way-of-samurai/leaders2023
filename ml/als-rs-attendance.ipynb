{
 "cells": [
  {
   "cell_type": "code",
   "execution_count": 39,
   "metadata": {},
   "outputs": [
    {
     "name": "stdout",
     "output_type": "stream",
     "text": [
      "Root-mean-square error = 29.325029438240207\n"
     ]
    }
   ],
   "source": [
    "from pyspark.sql import SparkSession\n",
    "from pyspark.sql.functions import when, lit, col\n",
    "from pyspark.sql.types import IntegerType\n",
    "\n",
    "spark = SparkSession\\\n",
    "        .builder\\\n",
    "        .appName(\"ALS\").config(\"spark.driver.host\",\"localhost\")\\\n",
    "        .getOrCreate()\n",
    "# read in the dataset into pyspark DataFrame\n",
    "attendance = spark.read.csv('./attend.csv', header='true', inferSchema = 'true')\n",
    "attendance = attendance.drop('дата занятия') \\\n",
    "                        .drop('время начала занятия') \\\n",
    "                        .drop('время окончания занятия') \\\n",
    "                        .drop('направление 2') \\\n",
    "                        .drop('направление 3') \\\n",
    "                        .drop('уникальный номер занятия') \\\n",
    "                        .withColumnRenamed('уникальный номер группы', 'groupId') \\\n",
    "                        .withColumnRenamed('уникальный номер участника', 'userId') \\\n",
    "                        .withColumn(\"rating\", when((attendance['онлайн/офлайн'] == \"Да\"), 1) \\\n",
    "                                                .when((attendance['онлайн/офлайн'] == \"Нет\"), 1) \\\n",
    "                                                .otherwise(lit(\"0\"))) \\\n",
    "                        .drop('онлайн/офлайн')\n",
    "attendance = attendance.withColumn(\"rating\", col('rating').cast(IntegerType()))\n",
    "categories = spark.read.csv('./dict.csv', sep =';', header='true', inferSchema = 'true')\n",
    "categories = categories.drop('Разметка: Для ума/ Для души / Для тела') \\\n",
    "                        .drop('id_level1') \\\n",
    "                        .drop('level1') \\\n",
    "                        .drop('id_level2') \\\n",
    "                        .drop('level2') \\\n",
    "                        .drop('d_level1') \\\n",
    "                        .drop('d_level2') \\\n",
    "                        .drop('d_level3')\n",
    "groups = spark.read.csv('./groups.csv', header='true', inferSchema = 'true')\n",
    "groups = groups.drop('направление 1') \\\n",
    "                        .drop('направление 2') \\\n",
    "                        .drop('адрес площадки') \\\n",
    "                        .drop('округ площадки') \\\n",
    "                        .drop('район площадки') \\\n",
    "                        .drop('расписание в активных периодах') \\\n",
    "                        .drop('расписание в закрытых периодах') \\\n",
    "                        .drop('расписание в плановом периоде') \\\n",
    "                        .withColumnRenamed('уникальный номер', 'groupId') \\\n",
    "                        .withColumnRenamed('направление 3', 'leve3')\n",
    "groupsWithLevelIds = categories.join(groups, 'leve3')\n",
    "attendanceWithLevelIds=attendance.join(groupsWithLevelIds, 'groupId')\n",
    "interests = attendanceWithLevelIds.groupBy(\"userId\", \"id_level3\").agg({\"rating\": \"sum\"})\n",
    "\n",
    "from pyspark.ml.evaluation import RegressionEvaluator\n",
    "from pyspark.ml.recommendation import ALS\n",
    "# split into \n",
    "(trainingInterests, testInterests) = interests.randomSplit([0.8, 0.2])\n",
    "\n",
    "# Build the recommendation model using ALS on the training data\n",
    "# Note we set cold start strategy to 'drop' to ensure we don't get NaN evaluation metrics\n",
    "alsInterests = ALS(maxIter=5,rank=100, regParam=0.01, userCol=\"userId\", itemCol=\"id_level3\", ratingCol=\"sum(rating)\",\n",
    "          coldStartStrategy=\"drop\")\n",
    "\n",
    "# fit the ALS model to the training set\n",
    "modelInterests = alsInterests.fit(trainingInterests)\n",
    "\n",
    "# Evaluate the model by computing the RMSE on the test data\n",
    "predictionsInterests = modelInterests.transform(testInterests)\n",
    "evaluatorInterests = RegressionEvaluator(metricName=\"rmse\", labelCol=\"sum(rating)\",\n",
    "                                predictionCol=\"prediction\")\n",
    "rmseInterests = evaluatorInterests.evaluate(predictionsInterests)\n",
    "print(\"Root-mean-square error = \" + str(rmseInterests))\n"
   ]
  },
  {
   "cell_type": "markdown",
   "metadata": {},
   "source": [
    "### Cross Validation to Find the Optimal Model\n",
    "\n",
    "Let's now find the optimal values for the parameters of the ALS model. Use the built-in Cross Validator in pyspark with a suitable param grid and determine the optimal model. Try with the parameters:\n",
    "\n",
    "* regularization = [0.01,0.001,0.1])\n",
    "* rank = [4,10,50]\n",
    "\n"
   ]
  },
  {
   "cell_type": "code",
   "execution_count": 36,
   "metadata": {},
   "outputs": [
    {
     "data": {
      "text/plain": [
       "ALSModel: uid=ALS_62dd1dfeb1b4, rank=50"
      ]
     },
     "execution_count": 36,
     "metadata": {},
     "output_type": "execute_result"
    }
   ],
   "source": [
    "from pyspark.ml.tuning import CrossValidator, ParamGridBuilder\n",
    "\n",
    "\n",
    "als_modelInterests =  ALS(userCol=\"userId\", itemCol=\"id_level3\", ratingCol=\"sum(rating)\", coldStartStrategy=\"drop\")\n",
    "\n",
    "                 \n",
    "paramsInterests = ParamGridBuilder().addGrid(als_modelInterests.regParam, [0.01,0.001,0.1]).addGrid(als_modelInterests.rank, [4,10,50]).build()\n",
    "\n",
    "\n",
    "## instantiating crossvalidator estimator\n",
    "cvInterests = CrossValidator(estimator=als_modelInterests, estimatorParamMaps=paramsInterests,evaluator=evaluatorInterests,parallelism=4)\n",
    "best_modelInterests = cvInterests.fit(interests)    \n",
    "\n",
    "# We see the best model has a rank of 50, so we will use that in our future models with this dataset\n",
    "best_modelInterests.bestModel"
   ]
  },
  {
   "cell_type": "code",
   "execution_count": 37,
   "metadata": {},
   "outputs": [
    {
     "data": {
      "text/plain": [
       "[Row(userId=101419598, recommendations=[Row(id_level3=1720, rating=53.99146270751953), Row(id_level3=1118, rating=51.732566833496094), Row(id_level3=1421, rating=45.983795166015625), Row(id_level3=1113, rating=44.997684478759766), Row(id_level3=1180, rating=41.25835037231445), Row(id_level3=1281, rating=39.22730255126953), Row(id_level3=1171, rating=38.77926254272461), Row(id_level3=1278, rating=38.70088577270508), Row(id_level3=1287, rating=38.42405700683594), Row(id_level3=1283, rating=35.283958435058594)])]"
      ]
     },
     "execution_count": 37,
     "metadata": {},
     "output_type": "execute_result"
    }
   ],
   "source": [
    "recommendationsInterests = modelInterests.recommendForAllUsers(10)\n",
    "recommendationsInterests.where(recommendationsInterests[\"userId\"] == 101419598).collect()"
   ]
  },
  {
   "cell_type": "code",
   "execution_count": null,
   "metadata": {},
   "outputs": [],
   "source": []
  },
  {
   "cell_type": "code",
   "execution_count": 30,
   "metadata": {},
   "outputs": [],
   "source": [
    "spark.stop()"
   ]
  },
  {
   "cell_type": "code",
   "execution_count": null,
   "metadata": {},
   "outputs": [],
   "source": []
  }
 ],
 "metadata": {
  "kernelspec": {
   "display_name": "Python 3 (ipykernel)",
   "language": "python",
   "name": "python3"
  },
  "language_info": {
   "codemirror_mode": {
    "name": "ipython",
    "version": 3
   },
   "file_extension": ".py",
   "mimetype": "text/x-python",
   "name": "python",
   "nbconvert_exporter": "python",
   "pygments_lexer": "ipython3",
   "version": "3.9.15"
  }
 },
 "nbformat": 4,
 "nbformat_minor": 2
}
