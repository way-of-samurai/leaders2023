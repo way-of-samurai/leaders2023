{
 "cells": [
  {
   "cell_type": "code",
   "execution_count": 82,
   "metadata": {},
   "outputs": [
    {
     "name": "stdout",
     "output_type": "stream",
     "text": [
      "data loading...\n"
     ]
    },
    {
     "name": "stderr",
     "output_type": "stream",
     "text": [
      "                                                                                \r"
     ]
    },
    {
     "name": "stdout",
     "output_type": "stream",
     "text": [
      "model fit...\n"
     ]
    },
    {
     "name": "stderr",
     "output_type": "stream",
     "text": [
      "                                                                                \r"
     ]
    },
    {
     "name": "stdout",
     "output_type": "stream",
     "text": [
      "Root-mean-square error = 28.65837400628724\n"
     ]
    },
    {
     "name": "stderr",
     "output_type": "stream",
     "text": [
      "                                                                                \r"
     ]
    },
    {
     "name": "stdout",
     "output_type": "stream",
     "text": [
      "Root-mean-square error = 93.2833271930617\n"
     ]
    },
    {
     "name": "stderr",
     "output_type": "stream",
     "text": [
      "                                                                                \r"
     ]
    },
    {
     "name": "stdout",
     "output_type": "stream",
     "text": [
      "139941\n"
     ]
    },
    {
     "name": "stderr",
     "output_type": "stream",
     "text": [
      "                                                                                \r"
     ]
    },
    {
     "name": "stdout",
     "output_type": "stream",
     "text": [
      "9786600\n"
     ]
    },
    {
     "name": "stderr",
     "output_type": "stream",
     "text": [
      "                                                                                \r"
     ]
    },
    {
     "name": "stdout",
     "output_type": "stream",
     "text": [
      "recommendations done and stored\n",
      "--- 419.83991503715515 seconds ---\n"
     ]
    }
   ],
   "source": [
    "from pyspark.sql import SparkSession\n",
    "from pyspark.sql.functions import when, lit, col, sum, explode, split, to_timestamp, current_timestamp\n",
    "from pyspark.sql.types import IntegerType\n",
    "from pyspark.ml.evaluation import RegressionEvaluator\n",
    "from pyspark.ml.recommendation import ALS\n",
    "import time\n",
    "\n",
    "start_time = time.time()\n",
    "\n",
    "spark = SparkSession\\\n",
    "        .builder\\\n",
    "        .appName(\"ALS\")\\\n",
    "        .config(\"spark.driver.host\",\"localhost\")\\\n",
    "        .config(\"spark.jars\", \"./postgresql-42.6.0.jar\") \\\n",
    "        .getOrCreate()\n",
    "\n",
    "dbUrl = \"jdbc:postgresql://10.50.50.34:5432/leaders2023\"\n",
    "dbProperties = {\"user\": \"postgres\",\"password\": \"m3zyCrSHpGXsgqn2XZGigP7hR4Dn2GaeEfJSTDmkfvADkEoPgVbp96nUL6Xty4PK\",\n",
    "                \"driver\": \"org.postgresql.Driver\"}\n",
    "\n",
    "print(\"data loading...\")\n",
    "\n",
    "# data read and preparation\n",
    "attendance = spark.read.csv('./attend.csv', header='true', inferSchema = 'true')\n",
    "attendance = attendance.drop('дата занятия') \\\n",
    "                        .drop('время начала занятия') \\\n",
    "                        .drop('время окончания занятия') \\\n",
    "                        .drop('направление 2') \\\n",
    "                        .drop('направление 3') \\\n",
    "                        .drop('уникальный номер занятия') \\\n",
    "                        .withColumnRenamed('уникальный номер группы', 'groupId') \\\n",
    "                        .withColumnRenamed('уникальный номер участника', 'userId') \\\n",
    "                        .withColumn(\"rank\", when((attendance['онлайн/офлайн'] == \"Да\"), 1) \\\n",
    "                                                .when((attendance['онлайн/офлайн'] == \"Нет\"), 1) \\\n",
    "                                                .otherwise(lit(\"0\"))) \\\n",
    "                        .drop('онлайн/офлайн')\n",
    "\n",
    "#attendanceFromDB = spark.read.jdbc(dbUrl,'public.\"Attend\"', properties=dbProperties)\n",
    "#attendance=attendanceFromDB.select(\"groupId\",\"userId\",\"type\") \\\n",
    "#            .withColumn(\"rank\", when((attendanceFromDB['type'] == 'ONLINE'), 1) \\\n",
    "#                                .when((attendanceFromDB['type'] == 'OFFLINE'), 1) \\\n",
    "#                                .otherwise(lit(\"0\")))\n",
    "\n",
    "attendance = attendance.withColumn(\"rank\", col('rank').cast(IntegerType()))\n",
    "\n",
    "categoriesFromDB = spark.read.jdbc(dbUrl,'public.\"Category\"', properties=dbProperties)\n",
    "\n",
    "level0Categories = categoriesFromDB.select(col(\"id\").alias(\"lvl0id\"),col(\"name\").alias(\"lvl0name\"),col(\"parentId\").alias(\"lvl0parentId\")).filter(col(\"level\") == 0)\n",
    "level1Categories = categoriesFromDB.select(col(\"id\").alias(\"lvl1id\"),col(\"name\").alias(\"lvl1name\"),col(\"parentId\").alias(\"lvl1parentId\")).filter(col(\"level\") == 1)\n",
    "level2Categories = categoriesFromDB.select(col(\"id\").alias(\"lvl2id\"),col(\"name\").alias(\"lvl2name\"),col(\"parentId\").alias(\"lvl2parentId\")).filter(col(\"level\") == 2)\n",
    "level3Categories = categoriesFromDB.select(col(\"id\").alias(\"lvl3id\"),col(\"name\").alias(\"lvl3name\"),col(\"parentId\").alias(\"lvl3parentId\")).filter(col(\"level\") == 3)\n",
    "\n",
    "lvl01JoinedDF = level1Categories.join(level0Categories, level1Categories.lvl1parentId == level0Categories.lvl0id)\n",
    "lvl012JoinedDF = level2Categories.join(lvl01JoinedDF, level2Categories.lvl2parentId == lvl01JoinedDF.lvl1id)\n",
    "lvl0123JoinedDF = level3Categories.join(lvl012JoinedDF, level3Categories.lvl3parentId == lvl012JoinedDF.lvl2id)\n",
    "\n",
    "categories = lvl0123JoinedDF.select(\"lvl0id\", \"lvl0name\", \"lvl3id\",\"lvl3name\")\n",
    "                \n",
    "groups = spark.read.csv('./groups.csv', header='true', inferSchema = 'true')\n",
    "groups = groups.drop('направление 1') \\\n",
    "                        .drop('направление 2') \\\n",
    "                        .drop('адрес площадки') \\\n",
    "                        .drop('округ площадки') \\\n",
    "                        .drop('район площадки') \\\n",
    "                        .drop('расписание в активных периодах') \\\n",
    "                        .drop('расписание в закрытых периодах') \\\n",
    "                        .drop('расписание в плановом периоде') \\\n",
    "                        .withColumnRenamed('уникальный номер', 'groupId') \\\n",
    "                        .withColumnRenamed('направление 3', 'lvl3name')\n",
    "groupsWithLevelIds = categories.join(groups, 'lvl3name')\n",
    "\n",
    "#groupsFromDB = spark.read.jdbc(dbUrl,'public.\"Group\"', properties=dbProperties)\n",
    "#groups=groupsFromDB.select(col(\"id\").alias(\"groupId\"),col(\"categoryId\"))\n",
    "#groupsWithLevelIds = categories.join(groups, categories.lvl3id == groups.categoryId).drop(\"categoryId\")\n",
    "\n",
    "attendanceWithLevelIds=attendance.join(groupsWithLevelIds, 'groupId')\n",
    "\n",
    "#level3 model fit\n",
    "print(\"model fit...\")\n",
    "interestsLvl3 = attendanceWithLevelIds.groupBy(\"userId\", \"lvl3id\").agg(sum(\"rank\").alias(\"rank\"))\n",
    "\n",
    "(trainingInterestsLvl3, testInterestsLvl3) = interestsLvl3.randomSplit([0.8, 0.2])\n",
    "\n",
    "alsInterestsLvl3 = ALS(maxIter=5,rank=100, regParam=0.01, userCol=\"userId\", itemCol=\"lvl3id\", ratingCol=\"rank\",\n",
    "          coldStartStrategy=\"drop\")\n",
    "\n",
    "modelInterestsLvl3 = alsInterestsLvl3.fit(trainingInterestsLvl3)\n",
    "\n",
    "predictionsInterestsLvl3 = modelInterestsLvl3.transform(testInterestsLvl3)\n",
    "evaluatorInterestsLvl3 = RegressionEvaluator(metricName=\"rmse\", labelCol=\"rank\",\n",
    "                                predictionCol=\"prediction\")\n",
    "rmseInterestsLvl3 = evaluatorInterestsLvl3.evaluate(predictionsInterestsLvl3)\n",
    "print(\"Root-mean-square error = \" + str(rmseInterestsLvl3))\n",
    "\n",
    "#level0 model fit\n",
    "interestsLvl0 = attendanceWithLevelIds.groupBy(\"userId\", \"lvl0id\").agg(sum(\"rank\").alias(\"rank\"))\n",
    "\n",
    "(trainingInterestsLvl0, testInterestsLvl0) = interestsLvl0.randomSplit([0.8, 0.2])\n",
    "\n",
    "alsInterestsLvl0 = ALS(maxIter=5,rank=100, regParam=0.01, userCol=\"userId\", itemCol=\"lvl0id\", ratingCol=\"rank\",\n",
    "          coldStartStrategy=\"drop\")\n",
    "\n",
    "modelInterestsLvl0 = alsInterestsLvl0.fit(trainingInterestsLvl0)\n",
    "\n",
    "predictionsInterestsLvl0 = modelInterestsLvl0.transform(testInterestsLvl0)\n",
    "evaluatorInterestsLvl0 = RegressionEvaluator(metricName=\"rmse\", labelCol=\"rank\",\n",
    "                                predictionCol=\"prediction\")\n",
    "rmseInterestsLvl0 = evaluatorInterestsLvl0.evaluate(predictionsInterestsLvl0)\n",
    "print(\"Root-mean-square error = \" + str(rmseInterestsLvl0))\n",
    "\n",
    "#save level0 recommendations\n",
    "\n",
    "recommendationsInterestsLvl0 = modelInterestsLvl0.recommendForAllUsers(3)\n",
    "lvl0recs = recommendationsInterestsLvl0.withColumn('recommendations', explode('recommendations'))\n",
    "resultLvl0 = lvl0recs.select(\"userId\", lvl0recs[\"recommendations.lvl0id\"].alias(\"categoryId\"), lvl0recs[\"recommendations.rating\"].alias(\"rank\")) \\\n",
    "        .withColumn(\"createdAt\",to_timestamp(current_timestamp(),\"MM-dd-yyyy HH mm ss SSS\"))\n",
    "print(resultLvl0.count())\n",
    "resultLvl0.write.jdbc(url=dbUrl, table='public.\"Recommendations\"', mode=\"overwrite\", properties=dbProperties)\n",
    "\n",
    "#save level3 recommendations\n",
    "recommendationsInterestsLvl3 = modelInterestsLvl3.recommendForAllUsers(200)\n",
    "lvl3recs = recommendationsInterestsLvl3.withColumn('recommendations', explode('recommendations'))\n",
    "resultLvl3 = lvl3recs.select(\"userId\", lvl3recs[\"recommendations.lvl3id\"].alias(\"categoryId\"), lvl3recs[\"recommendations.rating\"].alias(\"rank\")) \\\n",
    "        .withColumn(\"createdAt\",to_timestamp(current_timestamp(),\"MM-dd-yyyy HH mm ss SSS\"))\n",
    "print(resultLvl3.count())\n",
    "resultLvl3.write.jdbc(url=dbUrl, table='public.\"Recommendations\"', mode=\"append\", properties=dbProperties)\n",
    "print(\"recommendations done and stored\")\n",
    "spark.stop()\n",
    "print(\"--- %s seconds ---\" % (time.time() - start_time))"
   ]
  },
  {
   "cell_type": "code",
   "execution_count": null,
   "metadata": {},
   "outputs": [],
   "source": []
  }
 ],
 "metadata": {
  "kernelspec": {
   "display_name": "Python 3 (ipykernel)",
   "language": "python",
   "name": "python3"
  },
  "language_info": {
   "codemirror_mode": {
    "name": "ipython",
    "version": 3
   },
   "file_extension": ".py",
   "mimetype": "text/x-python",
   "name": "python",
   "nbconvert_exporter": "python",
   "pygments_lexer": "ipython3",
   "version": "3.8.16"
  }
 },
 "nbformat": 4,
 "nbformat_minor": 2
}
