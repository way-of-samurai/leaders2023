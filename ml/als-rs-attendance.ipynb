{
 "cells": [
  {
   "cell_type": "code",
   "execution_count": 12,
   "metadata": {},
   "outputs": [
    {
     "name": "stdout",
     "output_type": "stream",
     "text": [
      "Root-mean-square error = 28.461277254248056\n"
     ]
    }
   ],
   "source": [
    "from pyspark.sql import SparkSession\n",
    "from pyspark.sql.functions import when, lit, col, sum\n",
    "from pyspark.sql.types import IntegerType\n",
    "from pyspark.ml.evaluation import RegressionEvaluator\n",
    "from pyspark.ml.recommendation import ALS\n",
    "\n",
    "spark = SparkSession\\\n",
    "        .builder\\\n",
    "        .appName(\"ALS\").config(\"spark.driver.host\",\"localhost\")\\\n",
    "        .getOrCreate()\n",
    "# read in the dataset into pyspark DataFrame\n",
    "attendance = spark.read.csv('./attend.csv', header='true', inferSchema = 'true')\n",
    "attendance = attendance.drop('дата занятия') \\\n",
    "                        .drop('время начала занятия') \\\n",
    "                        .drop('время окончания занятия') \\\n",
    "                        .drop('направление 2') \\\n",
    "                        .drop('направление 3') \\\n",
    "                        .drop('уникальный номер занятия') \\\n",
    "                        .withColumnRenamed('уникальный номер группы', 'groupId') \\\n",
    "                        .withColumnRenamed('уникальный номер участника', 'userId') \\\n",
    "                        .withColumn(\"rank\", when((attendance['онлайн/офлайн'] == \"Да\"), 1) \\\n",
    "                                                .when((attendance['онлайн/офлайн'] == \"Нет\"), 1) \\\n",
    "                                                .otherwise(lit(\"0\"))) \\\n",
    "                        .drop('онлайн/офлайн')\n",
    "attendance = attendance.withColumn(\"rank\", col('rank').cast(IntegerType()))\n",
    "categories = spark.read.csv('./dict.csv', sep =';', header='true', inferSchema = 'true')\n",
    "categories = categories.drop('id_level1') \\\n",
    "                        .drop('level1') \\\n",
    "                        .drop('id_level2') \\\n",
    "                        .drop('level2') \\\n",
    "                        .drop('d_level1') \\\n",
    "                        .drop('d_level2') \\\n",
    "                        .drop('d_level3') \\\n",
    "                        .withColumn(\"id_level0\", when((categories['Разметка: Для ума/ Для души / Для тела'] == \"Для ума\"), 10001) \\\n",
    "                                                .when((categories['Разметка: Для ума/ Для души / Для тела'] == \"Для души\"), 10002) \\\n",
    "                                                .when((categories['Разметка: Для ума/ Для души / Для тела'] == \"Для тела\"), 10003) \\\n",
    "                                                .otherwise(-1))\n",
    "                \n",
    "groups = spark.read.csv('./groups.csv', header='true', inferSchema = 'true')\n",
    "groups = groups.drop('направление 1') \\\n",
    "                        .drop('направление 2') \\\n",
    "                        .drop('адрес площадки') \\\n",
    "                        .drop('округ площадки') \\\n",
    "                        .drop('район площадки') \\\n",
    "                        .drop('расписание в активных периодах') \\\n",
    "                        .drop('расписание в закрытых периодах') \\\n",
    "                        .drop('расписание в плановом периоде') \\\n",
    "                        .withColumnRenamed('уникальный номер', 'groupId') \\\n",
    "                        .withColumnRenamed('направление 3', 'leve3')\n",
    "groupsWithLevelIds = categories.join(groups, 'leve3')\n",
    "attendanceWithLevelIds=attendance.join(groupsWithLevelIds, 'groupId')\n",
    "interestsLvl3 = attendanceWithLevelIds.groupBy(\"userId\", \"id_level3\").agg(sum(\"rank\").alias(\"rank\"))\n",
    "\n",
    "\n",
    "(trainingInterestsLvl3, testInterestsLvl3) = interestsLvl3.randomSplit([0.8, 0.2])\n",
    "\n",
    "alsInterestsLvl3 = ALS(maxIter=5,rank=100, regParam=0.01, userCol=\"userId\", itemCol=\"id_level3\", ratingCol=\"rank\",\n",
    "          coldStartStrategy=\"drop\")\n",
    "\n",
    "\n",
    "modelInterestsLvl3 = alsInterestsLvl3.fit(trainingInterestsLvl3)\n",
    "\n",
    "\n",
    "predictionsInterestsLvl3 = modelInterestsLvl3.transform(testInterestsLvl3)\n",
    "evaluatorInterestsLvl3 = RegressionEvaluator(metricName=\"rmse\", labelCol=\"rank\",\n",
    "                                predictionCol=\"prediction\")\n",
    "rmseInterestsLvl3 = evaluatorInterestsLvl3.evaluate(predictionsInterestsLvl3)\n",
    "print(\"Root-mean-square error = \" + str(rmseInterestsLvl3))\n"
   ]
  },
  {
   "cell_type": "code",
   "execution_count": 13,
   "metadata": {},
   "outputs": [
    {
     "name": "stdout",
     "output_type": "stream",
     "text": [
      "Root-mean-square error = 89.29878444147431\n"
     ]
    }
   ],
   "source": [
    "interestsLvl0 = attendanceWithLevelIds.groupBy(\"userId\", \"id_level0\").agg(sum(\"rank\").alias(\"rank\"))\n",
    "\n",
    "(trainingInterestsLvl0, testInterestsLvl0) = interestsLvl0.randomSplit([0.8, 0.2])\n",
    "\n",
    "alsInterestsLvl0 = ALS(maxIter=5,rank=100, regParam=0.01, userCol=\"userId\", itemCol=\"id_level0\", ratingCol=\"rank\",\n",
    "          coldStartStrategy=\"drop\")\n",
    "\n",
    "\n",
    "modelInterestsLvl0 = alsInterestsLvl0.fit(trainingInterestsLvl0)\n",
    "\n",
    "\n",
    "predictionsInterestsLvl0 = modelInterestsLvl0.transform(testInterestsLvl0)\n",
    "evaluatorInterestsLvl0 = RegressionEvaluator(metricName=\"rmse\", labelCol=\"rank\",\n",
    "                                predictionCol=\"prediction\")\n",
    "rmseInterestsLvl0 = evaluatorInterestsLvl0.evaluate(predictionsInterestsLvl0)\n",
    "print(\"Root-mean-square error = \" + str(rmseInterestsLvl0))"
   ]
  },
  {
   "cell_type": "markdown",
   "metadata": {},
   "source": [
    "### Cross Validation to Find the Optimal Model\n",
    "\n",
    "Let's now find the optimal values for the parameters of the ALS model. Use the built-in Cross Validator in pyspark with a suitable param grid and determine the optimal model. Try with the parameters:\n",
    "\n",
    "* regularization = [0.01,0.001,0.1])\n",
    "* rank = [4,10,50]\n",
    "\n"
   ]
  },
  {
   "cell_type": "code",
   "execution_count": 36,
   "metadata": {},
   "outputs": [
    {
     "data": {
      "text/plain": [
       "ALSModel: uid=ALS_62dd1dfeb1b4, rank=50"
      ]
     },
     "execution_count": 36,
     "metadata": {},
     "output_type": "execute_result"
    }
   ],
   "source": [
    "from pyspark.ml.tuning import CrossValidator, ParamGridBuilder\n",
    "\n",
    "\n",
    "als_modelInterests =  ALS(userCol=\"userId\", itemCol=\"id_level3\", ratingCol=\"sum(rating)\", coldStartStrategy=\"drop\")\n",
    "\n",
    "                 \n",
    "paramsInterests = ParamGridBuilder().addGrid(als_modelInterests.regParam, [0.01,0.001,0.1]).addGrid(als_modelInterests.rank, [4,10,50]).build()\n",
    "\n",
    "\n",
    "## instantiating crossvalidator estimator\n",
    "cvInterests = CrossValidator(estimator=als_modelInterests, estimatorParamMaps=paramsInterests,evaluator=evaluatorInterests,parallelism=4)\n",
    "best_modelInterests = cvInterests.fit(interests)    \n",
    "\n",
    "# We see the best model has a rank of 50, so we will use that in our future models with this dataset\n",
    "best_modelInterests.bestModel"
   ]
  },
  {
   "cell_type": "code",
   "execution_count": 14,
   "metadata": {},
   "outputs": [
    {
     "name": "stderr",
     "output_type": "stream",
     "text": [
      "C:\\Users\\rovny\\anaconda3\\envs\\python3915\\lib\\site-packages\\pyspark\\sql\\context.py:125: FutureWarning: Deprecated in 3.0.0. Use SparkSession.builder.getOrCreate() instead.\n",
      "  warnings.warn(\n"
     ]
    },
    {
     "data": {
      "text/plain": [
       "[Row(userId=101419598, recommendations=[Row(id_level3=1274, rating=79.53845977783203), Row(id_level3=1185, rating=75.10376739501953), Row(id_level3=1180, rating=56.39841079711914), Row(id_level3=1720, rating=53.994232177734375), Row(id_level3=1753, rating=47.49144744873047), Row(id_level3=1421, rating=45.98579025268555), Row(id_level3=1113, rating=44.996299743652344), Row(id_level3=1394, rating=44.623226165771484), Row(id_level3=1192, rating=44.60888671875), Row(id_level3=1187, rating=42.43898010253906)])]"
      ]
     },
     "execution_count": 14,
     "metadata": {},
     "output_type": "execute_result"
    }
   ],
   "source": [
    "recommendationsInterestsLvl3 = modelInterestsLvl3.recommendForAllUsers(10)\n",
    "recommendationsInterestsLvl3.where(recommendationsInterestsLvl3[\"userId\"] == 101419598).collect()"
   ]
  },
  {
   "cell_type": "code",
   "execution_count": 15,
   "metadata": {},
   "outputs": [
    {
     "data": {
      "text/plain": [
       "[Row(userId=101419598, recommendations=[Row(id_level0=10001, rating=253.99533081054688), Row(id_level0=10002, rating=82.99931335449219), Row(id_level0=10003, rating=6.002247333526611)])]"
      ]
     },
     "execution_count": 15,
     "metadata": {},
     "output_type": "execute_result"
    }
   ],
   "source": [
    "recommendationsInterestsLvl0 = modelInterestsLvl0.recommendForAllUsers(3)\n",
    "recommendationsInterestsLvl0.where(recommendationsInterestsLvl0[\"userId\"] == 101419598).collect()"
   ]
  },
  {
   "cell_type": "code",
   "execution_count": 30,
   "metadata": {},
   "outputs": [],
   "source": [
    "spark.stop()"
   ]
  },
  {
   "cell_type": "code",
   "execution_count": null,
   "metadata": {},
   "outputs": [],
   "source": []
  }
 ],
 "metadata": {
  "kernelspec": {
   "display_name": "Python 3 (ipykernel)",
   "language": "python",
   "name": "python3"
  },
  "language_info": {
   "codemirror_mode": {
    "name": "ipython",
    "version": 3
   },
   "file_extension": ".py",
   "mimetype": "text/x-python",
   "name": "python",
   "nbconvert_exporter": "python",
   "pygments_lexer": "ipython3",
   "version": "3.9.15"
  }
 },
 "nbformat": 4,
 "nbformat_minor": 2
}
